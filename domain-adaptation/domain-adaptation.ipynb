{
 "cells": [
  {
   "cell_type": "markdown",
   "metadata": {},
   "source": [
    "# Domain Adaptation - a brief review\n",
    "\n",
    "Traditionally, in the supervised learning approach we are interested in approximating a function $f: X \\longrightarrow Y$ by means of using a training sample of the random vectors (or feature space) $X_{\\text{train}}$, this is typically done by optimizing some *cost* function on unseen *test* data.\n",
    "By doing this we are (naively) assuming that both the training and test samples are drawn from the same joint probability distribution. Real world, though, is harsh and this is typically not the case. In particular, once we have trained our ML model, we cannot assure that the *real-world* data that this model will see in production it is drawn from the same joint probability distribuition as the training data. This can happen for several reasons, such as:\n",
    "* Joint probabilities of the domain can, and most probably will, change with time.\n",
    "* Training samples might have unknown biases due to selection methods, for instance.\n",
    "* ...\n",
    "\n",
    "\n",
    "\n",
    "\n",
    "\n",
    "In this notebook we will discuss the basic ideias under **Domain adaptation**, the discussion will be motivated by practical (synthetic) examples and at the end we will show how domain adaptation was used on a practical example at the DataLab.\n",
    "Let us begin by stating the problem in general terms by defining the essential mathematical objects under study in this context.\n",
    "\n",
    "# Notation and definitions"
   ]
  },
  {
   "cell_type": "markdown",
   "metadata": {},
   "source": []
  }
 ],
 "metadata": {
  "kernelspec": {
   "display_name": "Python 3.8.9 64-bit",
   "language": "python",
   "name": "python3"
  },
  "language_info": {
   "name": "python",
   "version": "3.8.9"
  },
  "orig_nbformat": 4,
  "vscode": {
   "interpreter": {
    "hash": "31f2aee4e71d21fbe5cf8b01ff0e069b9275f58929596ceb00d14d90e3e16cd6"
   }
  }
 },
 "nbformat": 4,
 "nbformat_minor": 2
}

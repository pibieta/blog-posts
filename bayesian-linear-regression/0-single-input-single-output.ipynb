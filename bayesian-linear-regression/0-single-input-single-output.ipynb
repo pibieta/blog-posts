{
 "cells": [
  {
   "cell_type": "markdown",
   "metadata": {},
   "source": [
    "# Bayesian Linear Regression - Toy Example - Based on Bishop's $\\S$ 3.3.1\n",
    "Consider a single variable $x$ a single target variable $t$ and a linear model of the form:\n",
    "$$y(x,\\vec{w})= w_0 + w_1x.$$\n",
    "Because this has two adaptative parameters, we can plot the prior and posterior distributions directly in parameter space. The dataset we will use for this endeavor is given by:\n",
    "$$f(x,\\vec{a})= a_0 + a_1x,$$\n",
    "where:\n",
    "\\begin{align*}\n",
    "a_0&=-0.3,\\\\\n",
    "a_1&=0.5,\n",
    "\\end{align*}\n",
    "the $x_n$ datapoints are to be drawn from a uniform distribution $U(x|-1,1)$, the function $f(x, \\vec{a})$ is then evaluated and Gaussian noise with standard deviation of $0.2$ is added to obtain the target values $t_n$. Our goal is to recover the values of $a_0$ and $a_1$ from the synthetic dataset, exploring the dependence on sample size. "
   ]
  },
  {
   "cell_type": "markdown",
   "metadata": {},
   "source": [
    "## Synthetic data generation"
   ]
  },
  {
   "cell_type": "code",
   "execution_count": 42,
   "metadata": {},
   "outputs": [],
   "source": [
    "import sys\n",
    "sys.path.append('../src/utils/')"
   ]
  },
  {
   "cell_type": "code",
   "execution_count": 43,
   "metadata": {},
   "outputs": [],
   "source": [
    "import numpy as np\n",
    "import pandas as pd\n",
    "\n",
    "import matplotlib.pyplot as plt\n",
    "from plotting import clean_ax\n",
    "\n",
    "plt.style.use('dark_background')"
   ]
  },
  {
   "cell_type": "code",
   "execution_count": 44,
   "metadata": {},
   "outputs": [],
   "source": [
    "def func(x: float, a: list[float] = [-0.3, 0.5]) -> float:\n",
    "    \"\"\"Two parameter linear function to be approximated\n",
    "    Parameters\n",
    "    ----------\n",
    "    x: float,\n",
    "        real-valued input variable\n",
    "    a: list[float], (default = [-0.3, 0,5])\n",
    "        line parameters vector\n",
    "    Returns\n",
    "    -------\n",
    "    f(x): float,\n",
    "        linear function output\n",
    "    \"\"\"\n",
    "    return a[0]+a[1]*x"
   ]
  },
  {
   "cell_type": "code",
   "execution_count": 45,
   "metadata": {},
   "outputs": [],
   "source": [
    "# To generate the actual dataset we will create a different function\n",
    "def get_X_y(low:float = -1, high:float = 1, sample_size: int = 25, random_seed: int = 42):\n",
    "    \"\"\"Produces the X and y sample, given the uniform \n",
    "    distribution parameters and the sample size\n",
    "    Parameters\n",
    "    ----------\n",
    "    low: float (default = 0.0)\n",
    "        low limit for uniform distribution\n",
    "    high: float (default = 1.0)\n",
    "        hihg limit for uniform distribution\n",
    "    sample_size: int (default = 25)\n",
    "        size of the sample to be generated\n",
    "    random_seed: int (default = 42)\n",
    "        random state seed\n",
    "\n",
    "    Returns\n",
    "    -------\n",
    "    X: list[float]\n",
    "        Covariate samples\n",
    "    y: list[float]\n",
    "        Response variable samples\n",
    "    \"\"\"\n",
    "    np.random.seed(random_seed)\n",
    "    X = np.random.uniform(low, high, sample_size) \n",
    "    y = func(X) + np.random.normal(0, 0.2, size = sample_size)\n",
    "    return X, y"
   ]
  },
  {
   "cell_type": "code",
   "execution_count": 46,
   "metadata": {},
   "outputs": [
    {
     "data": {
      "image/png": "[encoded data removed]",
      "text/plain": [
       "<Figure size 720x480 with 1 Axes>"
      ]
     },
     "metadata": {},
     "output_type": "display_data"
    }
   ],
   "source": [
    "X, y = get_X_y()\n",
    "t = np.apply_along_axis(func, 0, X)\n",
    "f, ax = plt.subplots(dpi=120)\n",
    "ax.plot(X, t)\n",
    "ax.scatter(X,y, c='C1', marker='o', alpha=0.5)\n",
    "clean_ax(ax)\n",
    "plt.show()"
   ]
  },
  {
   "cell_type": "markdown",
   "metadata": {},
   "source": [
    "Next step is to build the prior distribution for the parameters $\\vec{w}$, which we will take to be given by:\n",
    "$$p(\\vec{w}|\\alpha) = \\mathcal{N}(\\vec{w}|\\mathbf{0}, \\alpha^{-1}\\mathbf{I}),$$\n",
    "for that we can use the `numpy.random.multivariate_normal` method, as follows:"
   ]
  },
  {
   "cell_type": "code",
   "execution_count": null,
   "metadata": {},
   "outputs": [],
   "source": []
  }
 ],
 "metadata": {
  "kernelspec": {
   "display_name": "ibc",
   "language": "python",
   "name": "python3"
  },
  "language_info": {
   "codemirror_mode": {
    "name": "ipython",
    "version": 3
   },
   "file_extension": ".py",
   "mimetype": "text/x-python",
   "name": "python",
   "nbconvert_exporter": "python",
   "pygments_lexer": "ipython3",
   "version": "3.9.13"
  },
  "orig_nbformat": 4
 },
 "nbformat": 4,
 "nbformat_minor": 2
}
